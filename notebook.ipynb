{
 "cells": [
  {
   "cell_type": "code",
   "execution_count": 1,
   "id": "774dc3f6-5da8-40b6-9ed7-7f190b346b02",
   "metadata": {},
   "outputs": [],
   "source": [
    "from faker import Faker\n",
    "from sqlalchemy import create_engine\n",
    "import pandas as pd\n",
    "from sqlalchemy import text"
   ]
  },
  {
   "cell_type": "markdown",
   "id": "b028e43e-c15d-419c-86c5-c00cf0f8e77f",
   "metadata": {},
   "source": [
    "### Generate DataFrame"
   ]
  },
  {
   "cell_type": "code",
   "execution_count": 2,
   "id": "16980e56-5296-479c-8bee-002dce3880ae",
   "metadata": {},
   "outputs": [],
   "source": [
    "def generate_dataframe():\n",
    "    # Initialize Faker\n",
    "    fake = Faker()\n",
    "\n",
    "    # Generate sample data\n",
    "    data = {\n",
    "        'id': [i for i in range(1, 1001)],\n",
    "        'name': [fake.name() for _ in range(1000)],\n",
    "        'age': [fake.random_int(min=18, max=70) for _ in range(1000)],\n",
    "        'job' : [fake.job() for _ in range(1000)],\n",
    "        'city': [fake.city() for _ in range(1000)],\n",
    "        'salary': [fake.random_int(min=30000, max=100000) for _ in range(1000)]\n",
    "    }\n",
    "\n",
    "    # Create DataFrame\n",
    "    df = pd.DataFrame(data)\n",
    "\n",
    "    # Display the DataFrame\n",
    "    return df"
   ]
  },
  {
   "cell_type": "markdown",
   "id": "189f9824-ce66-489e-b901-596086a3d8b8",
   "metadata": {},
   "source": [
    "### Load DataFrame to Postgresql"
   ]
  },
  {
   "cell_type": "code",
   "execution_count": 3,
   "id": "c32684fc-43c6-4165-8452-aac6807bce3e",
   "metadata": {},
   "outputs": [],
   "source": [
    "def load_df_to_db(df):\n",
    "\n",
    "    host = 'postgres'\n",
    "    port = '5432'\n",
    "    database_name = 'postgres'\n",
    "    schema_name = 'public'\n",
    "    username = 'docker'\n",
    "    password = 'docker'\n",
    "    connection_string = f'postgresql://{username}:{password}@{host}:{port}/{database_name}'\n",
    "    table_name = 'customer_detail'\n",
    "    \n",
    "    # Create a SQLAlchemy engine\n",
    "    engine = create_engine(connection_string)\n",
    "    conn = engine.connect()\n",
    "\n",
    "    # Insert data\n",
    "    if len(df) > 0:\n",
    "\n",
    "        try:\n",
    "            # Load the DataFrame into PostgreSQL using df.to_sql\n",
    "            df.to_sql(name=table_name, schema=schema_name, con=conn, if_exists='replace', index=False)\n",
    "            conn.close()\n",
    "            print('Load data success!!')\n",
    "        \n",
    "        except Exception as e:\n",
    "            raise e\n",
    "    else:\n",
    "        print('no data')"
   ]
  },
  {
   "cell_type": "code",
   "execution_count": 4,
   "id": "fd5a8c4c-d5d7-4477-a192-0eed2f613a5d",
   "metadata": {},
   "outputs": [
    {
     "name": "stdout",
     "output_type": "stream",
     "text": [
      "Load data success!!\n"
     ]
    }
   ],
   "source": [
    "df = generate_dataframe()\n",
    "# load DataFrame to Postgresql\n",
    "load_df_to_db(df)"
   ]
  },
  {
   "cell_type": "code",
   "execution_count": null,
   "id": "871dd50b-b181-497e-b4e8-373578dd68d7",
   "metadata": {},
   "outputs": [],
   "source": []
  }
 ],
 "metadata": {
  "kernelspec": {
   "display_name": "Python 3 (ipykernel)",
   "language": "python",
   "name": "python3"
  },
  "language_info": {
   "codemirror_mode": {
    "name": "ipython",
    "version": 3
   },
   "file_extension": ".py",
   "mimetype": "text/x-python",
   "name": "python",
   "nbconvert_exporter": "python",
   "pygments_lexer": "ipython3",
   "version": "3.11.6"
  }
 },
 "nbformat": 4,
 "nbformat_minor": 5
}
